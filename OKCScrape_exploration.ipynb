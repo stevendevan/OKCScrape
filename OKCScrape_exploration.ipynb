{
 "cells": [
  {
   "cell_type": "markdown",
   "metadata": {},
   "source": [
    "# Loading in the data\n",
    "The profiles are stored in a .pickle file, where each row of the DataFrame is iteratively appended to the file one at a time. load_profiles_df loops through the .pickle file, appending each results from pkl.load() to the output DataFrame until there is no more data in the file."
   ]
  },
  {
   "cell_type": "code",
   "execution_count": 1,
   "metadata": {},
   "outputs": [
    {
     "name": "stdout",
     "output_type": "stream",
     "text": [
      "Loading file ...\n",
      "Finished loading file.\n"
     ]
    }
   ],
   "source": [
    "import pandas as pd\n",
    "\n",
    "import okctools\n",
    "\n",
    "df_raw = okctools.load_profiles_df() # Defaults to 'profiles.pickle'"
   ]
  },
  {
   "cell_type": "code",
   "execution_count": 2,
   "metadata": {},
   "outputs": [
    {
     "data": {
      "text/html": [
       "<div>\n",
       "<style scoped>\n",
       "    .dataframe tbody tr th:only-of-type {\n",
       "        vertical-align: middle;\n",
       "    }\n",
       "\n",
       "    .dataframe tbody tr th {\n",
       "        vertical-align: top;\n",
       "    }\n",
       "\n",
       "    .dataframe thead th {\n",
       "        text-align: right;\n",
       "    }\n",
       "</style>\n",
       "<table border=\"1\" class=\"dataframe\">\n",
       "  <thead>\n",
       "    <tr style=\"text-align: right;\">\n",
       "      <th></th>\n",
       "      <th>age</th>\n",
       "      <th>build</th>\n",
       "      <th>cats</th>\n",
       "      <th>city</th>\n",
       "      <th>diet</th>\n",
       "      <th>dogs</th>\n",
       "      <th>drinks</th>\n",
       "      <th>drugs</th>\n",
       "      <th>ed_prefix</th>\n",
       "      <th>education</th>\n",
       "      <th>...</th>\n",
       "      <th>monogamous</th>\n",
       "      <th>name</th>\n",
       "      <th>orientation</th>\n",
       "      <th>region</th>\n",
       "      <th>religion</th>\n",
       "      <th>religion_pre</th>\n",
       "      <th>sign</th>\n",
       "      <th>smokes</th>\n",
       "      <th>status</th>\n",
       "      <th>username</th>\n",
       "    </tr>\n",
       "  </thead>\n",
       "  <tbody>\n",
       "    <tr>\n",
       "      <th>0</th>\n",
       "      <td>26</td>\n",
       "      <td>None</td>\n",
       "      <td>NaN</td>\n",
       "      <td>jakarta</td>\n",
       "      <td>NaN</td>\n",
       "      <td>NaN</td>\n",
       "      <td>NaN</td>\n",
       "      <td>NaN</td>\n",
       "      <td>NaN</td>\n",
       "      <td>NaN</td>\n",
       "      <td>...</td>\n",
       "      <td>None</td>\n",
       "      <td>ruth</td>\n",
       "      <td>[straight]</td>\n",
       "      <td>indonesia</td>\n",
       "      <td>NaN</td>\n",
       "      <td>NaN</td>\n",
       "      <td>NaN</td>\n",
       "      <td>NaN</td>\n",
       "      <td>single</td>\n",
       "      <td>ruth2044624212</td>\n",
       "    </tr>\n",
       "    <tr>\n",
       "      <th>1</th>\n",
       "      <td>38</td>\n",
       "      <td>None</td>\n",
       "      <td>NaN</td>\n",
       "      <td>phoenix</td>\n",
       "      <td>omnivore</td>\n",
       "      <td>dogs</td>\n",
       "      <td>socially</td>\n",
       "      <td>None</td>\n",
       "      <td>attended</td>\n",
       "      <td>two-year college</td>\n",
       "      <td>...</td>\n",
       "      <td>None</td>\n",
       "      <td>shalena</td>\n",
       "      <td>[straight]</td>\n",
       "      <td>az</td>\n",
       "      <td>agnostic</td>\n",
       "      <td>it’s important</td>\n",
       "      <td>aquarius</td>\n",
       "      <td>NaN</td>\n",
       "      <td>single</td>\n",
       "      <td>sheenerb20</td>\n",
       "    </tr>\n",
       "    <tr>\n",
       "      <th>2</th>\n",
       "      <td>30</td>\n",
       "      <td>None</td>\n",
       "      <td>NaN</td>\n",
       "      <td>beersheba</td>\n",
       "      <td>None</td>\n",
       "      <td>None</td>\n",
       "      <td>NaN</td>\n",
       "      <td>no</td>\n",
       "      <td>NaN</td>\n",
       "      <td>NaN</td>\n",
       "      <td>...</td>\n",
       "      <td>None</td>\n",
       "      <td>noa</td>\n",
       "      <td>[straight]</td>\n",
       "      <td>israel</td>\n",
       "      <td>NaN</td>\n",
       "      <td>NaN</td>\n",
       "      <td>None</td>\n",
       "      <td>NaN</td>\n",
       "      <td>single</td>\n",
       "      <td>noache</td>\n",
       "    </tr>\n",
       "    <tr>\n",
       "      <th>3</th>\n",
       "      <td>24</td>\n",
       "      <td>None</td>\n",
       "      <td>NaN</td>\n",
       "      <td>crowley</td>\n",
       "      <td>NaN</td>\n",
       "      <td>NaN</td>\n",
       "      <td>NaN</td>\n",
       "      <td>NaN</td>\n",
       "      <td>NaN</td>\n",
       "      <td>NaN</td>\n",
       "      <td>...</td>\n",
       "      <td>None</td>\n",
       "      <td>mimi</td>\n",
       "      <td>[straight]</td>\n",
       "      <td>tx</td>\n",
       "      <td>NaN</td>\n",
       "      <td>NaN</td>\n",
       "      <td>NaN</td>\n",
       "      <td>NaN</td>\n",
       "      <td>single</td>\n",
       "      <td>mimi9108466544</td>\n",
       "    </tr>\n",
       "    <tr>\n",
       "      <th>4</th>\n",
       "      <td>28</td>\n",
       "      <td>average</td>\n",
       "      <td>cats</td>\n",
       "      <td>parque industrial</td>\n",
       "      <td>vegetarian</td>\n",
       "      <td>dogs</td>\n",
       "      <td>socially</td>\n",
       "      <td>no</td>\n",
       "      <td>attended</td>\n",
       "      <td>university</td>\n",
       "      <td>...</td>\n",
       "      <td>None</td>\n",
       "      <td>mariane</td>\n",
       "      <td>[straight]</td>\n",
       "      <td>brazil</td>\n",
       "      <td>None</td>\n",
       "      <td>None</td>\n",
       "      <td>cancer</td>\n",
       "      <td>no</td>\n",
       "      <td>single</td>\n",
       "      <td>marian1026462024</td>\n",
       "    </tr>\n",
       "  </tbody>\n",
       "</table>\n",
       "<p>5 rows × 28 columns</p>\n",
       "</div>"
      ],
      "text/plain": [
       "  age    build  cats               city        diet  dogs    drinks drugs  \\\n",
       "0  26     None   NaN            jakarta         NaN   NaN       NaN   NaN   \n",
       "1  38     None   NaN            phoenix    omnivore  dogs  socially  None   \n",
       "2  30     None   NaN          beersheba        None  None       NaN    no   \n",
       "3  24     None   NaN            crowley         NaN   NaN       NaN   NaN   \n",
       "4  28  average  cats  parque industrial  vegetarian  dogs  socially    no   \n",
       "\n",
       "  ed_prefix         education        ...        monogamous     name  \\\n",
       "0       NaN               NaN        ...              None     ruth   \n",
       "1  attended  two-year college        ...              None  shalena   \n",
       "2       NaN               NaN        ...              None      noa   \n",
       "3       NaN               NaN        ...              None     mimi   \n",
       "4  attended        university        ...              None  mariane   \n",
       "\n",
       "  orientation     region  religion    religion_pre      sign smokes  status  \\\n",
       "0  [straight]  indonesia       NaN             NaN       NaN    NaN  single   \n",
       "1  [straight]         az  agnostic  it’s important  aquarius    NaN  single   \n",
       "2  [straight]     israel       NaN             NaN      None    NaN  single   \n",
       "3  [straight]         tx       NaN             NaN       NaN    NaN  single   \n",
       "4  [straight]     brazil      None            None    cancer     no  single   \n",
       "\n",
       "           username  \n",
       "0    ruth2044624212  \n",
       "1        sheenerb20  \n",
       "2            noache  \n",
       "3    mimi9108466544  \n",
       "4  marian1026462024  \n",
       "\n",
       "[5 rows x 28 columns]"
      ]
     },
     "execution_count": 2,
     "metadata": {},
     "output_type": "execute_result"
    }
   ],
   "source": [
    "df_raw.head()"
   ]
  },
  {
   "cell_type": "markdown",
   "metadata": {},
   "source": [
    "The data's looking pretty sparse. Let's find out just how sparse."
   ]
  },
  {
   "cell_type": "code",
   "execution_count": 18,
   "metadata": {},
   "outputs": [
    {
     "data": {
      "image/png": "[encoded data removed]",
      "text/plain": [
       "<Figure size 720x360 with 1 Axes>"
      ]
     },
     "metadata": {},
     "output_type": "display_data"
    }
   ],
   "source": [
    "import matplotlib.pyplot as plt\n",
    "numcols = len(df_raw.columns)\n",
    "nullcounts = list(map(lambda x: sum(df_raw.isnull().sum(axis=1) == x), \n",
    "                                range(numcols)))\n",
    "\n",
    "plt.figure(figsize=(10,5));\n",
    "plt.bar(range(numcols), nullcounts);\n",
    "plt.xticks(range(numcols+1));\n",
    "plt.title('Null values in profiles, (%s total profiles)' % len(df_raw));\n",
    "plt.xlabel('#nulls');\n",
    "plt.ylabel('#profiles');\n",
    "for xpos, ypos in enumerate(nullcounts):\n",
    "    plt.text(xpos, ypos + 3, str(ypos), ha='center')\n",
    "plt.show()"
   ]
  },
  {
   "cell_type": "markdown",
   "metadata": {},
   "source": [
    "A handful of profiles have only a non-null username field. This is because they turned up as \"not found\" on the OKC site. We have no way of knowing why (self-deletion/removal/etc.), but it's a surprisingly high percentage, given that the profile IDs were collected and then requested within the same day.\n",
    "\n",
    "As far as I know, the second largest grouping is due to minimally-completed profiles.\n",
    "\n",
    "So let's get rid of the empty profiles:"
   ]
  },
  {
   "cell_type": "code",
   "execution_count": 20,
   "metadata": {},
   "outputs": [],
   "source": [
    "df = df_raw[df_raw.isnull().sum(axis=1) != (numcols-1)]"
   ]
  },
  {
   "cell_type": "markdown",
   "metadata": {},
   "source": [
    "Now let's see how null each columns is."
   ]
  },
  {
   "cell_type": "code",
   "execution_count": 85,
   "metadata": {},
   "outputs": [
    {
     "data": {
      "image/png": "[encoded data removed]",
      "text/plain": [
       "<Figure size 720x360 with 1 Axes>"
      ]
     },
     "metadata": {},
     "output_type": "display_data"
    }
   ],
   "source": [
    "nullcols = df.isnull().sum(axis=0).sort_values()\n",
    "nullcols = nullcols.drop('username')\n",
    "fig2 = plt.figure(figsize=(10,5));\n",
    "plt.bar(range(len(nullcols)), nullcols.values, width=.8)\n",
    "for xpos, ypos in enumerate(nullcols.values):\n",
    "    plt.text(xpos + .06, ypos + 3, str(ypos), \n",
    "             ha='center', va='top', rotation=90, color='white')\n",
    "plt.xticks(range(len(nullcols)), nullcols.index, rotation=90)\n",
    "plt.title('# nulls for each column, out of %s profiles' % len(df))\n",
    "plt.xlabel('Column name')\n",
    "plt.ylabel('#nulls')\n",
    "plt.show()"
   ]
  },
  {
   "cell_type": "code",
   "execution_count": 76,
   "metadata": {},
   "outputs": [
    {
     "name": "stdout",
     "output_type": "stream",
     "text": [
      "Index(['age', 'build', 'cats', 'city', 'diet', 'dogs', 'drinks', 'drugs',\n",
      "       'ed_prefix', 'education', 'essays', 'ethnicity', 'gender', 'height',\n",
      "       'kids_future', 'kids_present', 'lang_primary', 'lang_secondary',\n",
      "       'monogamous', 'name', 'orientation', 'region', 'religion',\n",
      "       'religion_pre', 'sign', 'smokes', 'status', 'username'],\n",
      "      dtype='object')\n"
     ]
    }
   ],
   "source": [
    "print(df_raw.columns)"
   ]
  },
  {
   "cell_type": "code",
   "execution_count": null,
   "metadata": {},
   "outputs": [],
   "source": []
  }
 ],
 "metadata": {
  "kernelspec": {
   "display_name": "Python 3",
   "language": "python",
   "name": "python3"
  },
  "language_info": {
   "codemirror_mode": {
    "name": "ipython",
    "version": 3
   },
   "file_extension": ".py",
   "mimetype": "text/x-python",
   "name": "python",
   "nbconvert_exporter": "python",
   "pygments_lexer": "ipython3",
   "version": "3.6.3"
  }
 },
 "nbformat": 4,
 "nbformat_minor": 2
}
